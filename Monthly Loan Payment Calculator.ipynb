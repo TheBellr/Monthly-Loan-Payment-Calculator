{
 "cells": [
  {
   "cell_type": "markdown",
   "id": "50879009-f6b9-4be1-848f-c412a2d73cb3",
   "metadata": {},
   "source": [
    "#  Problem: Calculate a Loan Payment\n",
    "\n",
    "Create a Python program that calculates and displays the monthly payment for a loan based on the principal amount, annual interest rate, and the loan term (in months).\n",
    "\n",
    "Here are the requirements:\n",
    "\n",
    "Prompt the user to enter the principal amount (the initial loan amount).\n",
    "\n",
    "Prompt the user to enter the annual interest rate (as a percentage).\n",
    "\n",
    "Prompt the user to enter the loan term in years and then convert it to months.\n",
    "\n",
    "Calculate the monthly interest rate by dividing the annual interest rate by 12 and converting it to a decimal.\n",
    "\n",
    "Use the formula for calculating a monthly payment of a fixed-rate loan:\n",
    "\n",
    "# Solution"
   ]
  },
  {
   "cell_type": "code",
   "execution_count": null,
   "id": "b36e4fb8-1a8a-4868-8a8a-6e1324cf93ed",
   "metadata": {},
   "outputs": [],
   "source": [
    "P = float(input ('Input the principal:'))\n",
    "R = float(input ('Input the annual interest rate (in %):'))\n",
    "T = float(input ('How many years is the loan term:'))\n",
    "\n",
    "J = R / 12 / 100\n",
    "N = T*12\n",
    "\n",
    "M = (P*J) / (1 - (1+J)**(-N))\n",
    "\n",
    "print(\"Monthly interest rate is \" +  str (J) )\n",
    "print(\"Loan term is \" +  str (N) + \" months.\")\n",
    "\n",
    "print(\"Monthly payment = \" +  str (M) )"
   ]
  }
 ],
 "metadata": {
  "kernelspec": {
   "display_name": "Python 3 (ipykernel)",
   "language": "python",
   "name": "python3"
  },
  "language_info": {
   "codemirror_mode": {
    "name": "ipython",
    "version": 3
   },
   "file_extension": ".py",
   "mimetype": "text/x-python",
   "name": "python",
   "nbconvert_exporter": "python",
   "pygments_lexer": "ipython3",
   "version": "3.11.5"
  }
 },
 "nbformat": 4,
 "nbformat_minor": 5
}
